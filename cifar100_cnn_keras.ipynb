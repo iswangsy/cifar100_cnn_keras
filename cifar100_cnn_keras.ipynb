{
 "cells": [
  {
   "cell_type": "code",
   "execution_count": 3,
   "metadata": {},
   "outputs": [],
   "source": [
    "import os\n",
    "import numpy as np\n",
    "import pickle\n",
    "import h5py\n",
    "#import pandas as pd\n",
    "\n",
    "from __future__ import print_function\n",
    "import keras\n",
    "from keras.datasets import cifar100\n",
    "from keras.preprocessing.image import ImageDataGenerator\n",
    "from keras.models import Sequential\n",
    "from keras.layers import Dense, Dropout, Activation, Flatten\n",
    "from keras.layers import Conv2D, MaxPooling2D\n",
    "\n"
   ]
  },
  {
   "cell_type": "code",
   "execution_count": 9,
   "metadata": {},
   "outputs": [
    {
     "name": "stdout",
     "output_type": "stream",
     "text": [
      "x_train_shape :  (50000, 32, 32, 3)\n",
      "x_test_shape :  (10000, 32, 32, 3)\n",
      "50000 train_data\n",
      "10000 test_data\n",
      "y_train_shape :  (50000, 1)\n",
      "y_test_shape :  (10000, 1)\n"
     ]
    }
   ],
   "source": [
    "no_of_classes = 100\n",
    "current_path = os.path.join(os.getcwd(), 'current_model')\n",
    "#print(current_path)\n",
    "model_name = 'cifar100.h5'\n",
    "(x_train, y_train) , (x_test, y_test) = cifar100.load_data()\n",
    "print('x_train_shape : ' , x_train.shape)\n",
    "print('x_test_shape : ', x_test.shape)\n",
    "print(x_train.shape[0], 'train_data')\n",
    "print(x_test.shape[0], 'test_data')\n",
    "print('y_train_shape : ', y_train.shape)\n",
    "print('y_test_shape : ', y_test.shape)"
   ]
  },
  {
   "cell_type": "code",
   "execution_count": null,
   "metadata": {},
   "outputs": [],
   "source": []
  }
 ],
 "metadata": {
  "kernelspec": {
   "display_name": "Python (whatever you want to call it)",
   "language": "python",
   "name": "envname"
  },
  "language_info": {
   "codemirror_mode": {
    "name": "ipython",
    "version": 3
   },
   "file_extension": ".py",
   "mimetype": "text/x-python",
   "name": "python",
   "nbconvert_exporter": "python",
   "pygments_lexer": "ipython3",
   "version": "3.6.6"
  }
 },
 "nbformat": 4,
 "nbformat_minor": 2
}
